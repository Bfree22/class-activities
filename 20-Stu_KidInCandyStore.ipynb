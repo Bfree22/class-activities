{
 "cells": [
  {
   "cell_type": "code",
   "execution_count": 7,
   "metadata": {
    "scrolled": true
   },
   "outputs": [
    {
     "name": "stdout",
     "output_type": "stream",
     "text": [
      "[0] Snickers\n",
      "[1] Kit Kat\n",
      "[2] Sour Patch Kids\n",
      "[3] Juicy Fruit\n",
      "[4] Swedish Fish\n",
      "[5] Skittles\n",
      "[6] Hershey Bar\n",
      "[7] Starbursts\n",
      "[8] M&Ms\n",
      "Which candy would you like to bring home?\n",
      "Input the number of the candy you want: 1\n",
      "Input the number of the candy you want: 3\n",
      "Input the number of the candy you want: 6\n",
      "Input the number of the candy you want: 7\n",
      "Input the number of the candy you want: 8\n",
      "I brought home with me...\n",
      "Kit Kat\n",
      "Juicy Fruit\n",
      "Hershey Bar\n",
      "Starbursts\n",
      "M&Ms\n"
     ]
    }
   ],
   "source": [
    "candy_list = [\n",
    "    \"Snickers\",\n",
    "    \"Kit Kat\",\n",
    "    \"Sour Patch Kids\",\n",
    "    \"Juicy Fruit\",\n",
    "    \"Swedish Fish\",\n",
    "    \"Skittles\",\n",
    "    \"Hershey Bar\",\n",
    "    \"Starbursts\",\n",
    "    \"M&Ms\"\n",
    "]\n",
    "\n",
    "# The amount of candy the user will be allowed to choose\n",
    "allowance = 5\n",
    "\n",
    "candy_cart = []\n",
    "\n",
    "for candy in candy_list:\n",
    "    print(f'[{str(candy_list.index(candy))}] {candy}')\n",
    "\n",
    "print(\"Which candy would you like to bring home?\")\n",
    "for x in range(allowance):\n",
    "    selected = input(\"Input the number of the candy you want: \")\n",
    "\n",
    "    # Add the candy at the index chosen to the candy_cart list\n",
    "    candy_cart.append(candy_list[int(selected)])\n",
    "\n",
    "# Loop through the candy_cart to say what candies were brought home\n",
    "print(\"I brought home with me...\")\n",
    "for candy in candy_cart:\n",
    "    print(candy)\n"
   ]
  },
  {
   "cell_type": "markdown",
   "metadata": {},
   "source": []
  }
 ],
 "metadata": {
  "kernelspec": {
   "display_name": "Python 3",
   "language": "python",
   "name": "python3"
  },
  "language_info": {
   "codemirror_mode": {
    "name": "ipython",
    "version": 3
   },
   "file_extension": ".py",
   "mimetype": "text/x-python",
   "name": "python",
   "nbconvert_exporter": "python",
   "pygments_lexer": "ipython3",
   "version": "3.8.5"
  }
 },
 "nbformat": 4,
 "nbformat_minor": 4
}

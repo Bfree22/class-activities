{
 "cells": [
  {
   "cell_type": "code",
   "execution_count": 18,
   "metadata": {},
   "outputs": [],
   "source": [
    "def calculate(num_1, num_2):\n",
    "    result=0\n",
    "    choice=input(\"What do you want to do: Add, Subtract, Multiply or Divide?\")\n",
    "    \n",
    "    if choice == \"Add\":\n",
    "        result = num_1 + num_2\n",
    "    elif choice == \"Subtract\":\n",
    "        result = num_1 - num_2\n",
    "    elif choice == \"Multiply\":\n",
    "        result = num_1 * num_2\n",
    "    elif choice == \"Divide\":\n",
    "        result = num_1 / num_2\n",
    "    else:\n",
    "        print(\"That is not a valid answer\")\n",
    "    \n",
    "    return result"
   ]
  },
  {
   "cell_type": "code",
   "execution_count": 19,
   "metadata": {},
   "outputs": [
    {
     "name": "stdout",
     "output_type": "stream",
     "text": [
      "What do you want to do: Add, Subtract, Multiply or Divide?Divide\n",
      "4.0\n"
     ]
    }
   ],
   "source": [
    "print(calculate(20,5))"
   ]
  },
  {
   "cell_type": "code",
   "execution_count": null,
   "metadata": {},
   "outputs": [],
   "source": []
  }
 ],
 "metadata": {
  "kernelspec": {
   "display_name": "Python 3",
   "language": "python",
   "name": "python3"
  },
  "language_info": {
   "codemirror_mode": {
    "name": "ipython",
    "version": 3
   },
   "file_extension": ".py",
   "mimetype": "text/x-python",
   "name": "python",
   "nbconvert_exporter": "python",
   "pygments_lexer": "ipython3",
   "version": "3.8.5"
  }
 },
 "nbformat": 4,
 "nbformat_minor": 4
}

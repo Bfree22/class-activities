{
 "cells": [
  {
   "cell_type": "code",
   "execution_count": 4,
   "metadata": {},
   "outputs": [],
   "source": [
    "farm = [\"pig\", \"cow\",\"chicken\",\"dog\",\"horse\",\"sheep\"]"
   ]
  },
  {
   "cell_type": "code",
   "execution_count": 5,
   "metadata": {},
   "outputs": [
    {
     "data": {
      "text/plain": [
       "['pig', 'cow', 'chicken', 'dog', 'horse', 'sheep']"
      ]
     },
     "execution_count": 5,
     "metadata": {},
     "output_type": "execute_result"
    }
   ],
   "source": [
    "farm"
   ]
  },
  {
   "cell_type": "code",
   "execution_count": 6,
   "metadata": {},
   "outputs": [
    {
     "data": {
      "text/plain": [
       "'sheep'"
      ]
     },
     "execution_count": 6,
     "metadata": {},
     "output_type": "execute_result"
    }
   ],
   "source": [
    "farm[5]"
   ]
  },
  {
   "cell_type": "code",
   "execution_count": 7,
   "metadata": {},
   "outputs": [
    {
     "name": "stdout",
     "output_type": "stream",
     "text": [
      "RAWR!\n",
      "This animal is neither Godzilla nor Mothra\n"
     ]
    }
   ],
   "source": [
    "if farm[0] != \"Godzilla\":\n",
    "    print(\"RAWR!\")\n",
    "if farm[-1] == \"Mothra\":\n",
    "    print(\"SCREECH!\")\n",
    "else:\n",
    "    print(\"This animal is neither Godzilla nor Mothra\")\n"
   ]
  },
  {
   "cell_type": "code",
   "execution_count": 8,
   "metadata": {},
   "outputs": [
    {
     "name": "stdout",
     "output_type": "stream",
     "text": [
      "See spot run!\n"
     ]
    }
   ],
   "source": [
    "dog = \"spot\"\n",
    "cat= \"Farley\"\n",
    "city= \"San Francisco\"\n",
    "car= \"Prius\"\n",
    "\n",
    "print(f\"See {dog} run!\")"
   ]
  },
  {
   "cell_type": "code",
   "execution_count": 9,
   "metadata": {},
   "outputs": [
    {
     "name": "stdout",
     "output_type": "stream",
     "text": [
      "I drive Farley around San Francisco in my Prius\n"
     ]
    }
   ],
   "source": [
    "print(f\"I drive {cat} around {city} in my {car}\")"
   ]
  },
  {
   "cell_type": "code",
   "execution_count": 10,
   "metadata": {},
   "outputs": [],
   "source": [
    "budget= 5000\n",
    "rent_cost = 1500\n",
    "utilities_cost = 150\n",
    "food_cost= 250\n",
    "transportation_cost = 350\n",
    "computer_cost= 2000\n",
    "total_cost= (rent_cost + utilities_cost + food_cost + transportation_cost + computer_cost)"
   ]
  },
  {
   "cell_type": "code",
   "execution_count": 11,
   "metadata": {},
   "outputs": [
    {
     "data": {
      "text/plain": [
       "4250"
      ]
     },
     "execution_count": 11,
     "metadata": {},
     "output_type": "execute_result"
    }
   ],
   "source": [
    "total_cost"
   ]
  },
  {
   "cell_type": "code",
   "execution_count": 17,
   "metadata": {},
   "outputs": [
    {
     "name": "stdout",
     "output_type": "stream",
     "text": [
      "You're total cost is 4250\n"
     ]
    }
   ],
   "source": [
    "if total_cost < budget:\n",
    "    print(f\"You're total cost is {total_cost}\")\n",
    "else:\n",
    "    print(f\"You're over budget by {budget - total_cost}\")"
   ]
  },
  {
   "cell_type": "code",
   "execution_count": 19,
   "metadata": {},
   "outputs": [
    {
     "name": "stdout",
     "output_type": "stream",
     "text": [
      "The rent is too damn high!\n"
     ]
    }
   ],
   "source": [
    "if rent_cost > utilities_cost+food_cost+transportation_cost:\n",
    "    print(\"The rent is too damn high!\")\n",
    "else:\n",
    "    print(\"Ahhh just right!\")"
   ]
  },
  {
   "cell_type": "code",
   "execution_count": null,
   "metadata": {},
   "outputs": [],
   "source": []
  },
  {
   "cell_type": "code",
   "execution_count": null,
   "metadata": {},
   "outputs": [],
   "source": []
  },
  {
   "cell_type": "code",
   "execution_count": null,
   "metadata": {},
   "outputs": [],
   "source": []
  },
  {
   "cell_type": "code",
   "execution_count": null,
   "metadata": {},
   "outputs": [],
   "source": []
  },
  {
   "cell_type": "code",
   "execution_count": null,
   "metadata": {},
   "outputs": [],
   "source": []
  },
  {
   "cell_type": "code",
   "execution_count": null,
   "metadata": {},
   "outputs": [],
   "source": []
  },
  {
   "cell_type": "code",
   "execution_count": null,
   "metadata": {},
   "outputs": [],
   "source": []
  },
  {
   "cell_type": "code",
   "execution_count": null,
   "metadata": {},
   "outputs": [],
   "source": []
  }
 ],
 "metadata": {
  "kernelspec": {
   "display_name": "Python 3",
   "language": "python",
   "name": "python3"
  },
  "language_info": {
   "codemirror_mode": {
    "name": "ipython",
    "version": 3
   },
   "file_extension": ".py",
   "mimetype": "text/x-python",
   "name": "python",
   "nbconvert_exporter": "python",
   "pygments_lexer": "ipython3",
   "version": "3.8.5"
  }
 },
 "nbformat": 4,
 "nbformat_minor": 4
}

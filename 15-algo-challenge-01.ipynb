{
 "cells": [
  {
   "cell_type": "code",
   "execution_count": 1,
   "metadata": {},
   "outputs": [],
   "source": [
    "import random"
   ]
  },
  {
   "cell_type": "code",
   "execution_count": 7,
   "metadata": {},
   "outputs": [
    {
     "name": "stdout",
     "output_type": "stream",
     "text": [
      "Number 45\n",
      "false\n"
     ]
    }
   ],
   "source": [
    "# QUESTION 1: Create a function called `number_guess` that takes in an integer as an argument.\n",
    "# If the number is 42, print(true). If it isn't 42, print(false)\n",
    "\n",
    "def number_guess(number):\n",
    "    if number == 42:\n",
    "        print(\"true\")\n",
    "    else:\n",
    "        print(\"false\")\n",
    "        \n",
    "test_number = random.randint(40, 46)\n",
    "print(f\"Number {test_number}\")\n",
    "number_guess(test_number)\n"
   ]
  },
  {
   "cell_type": "code",
   "execution_count": 9,
   "metadata": {},
   "outputs": [
    {
     "name": "stdout",
     "output_type": "stream",
     "text": [
      "The smallest number in the list is 2\n"
     ]
    }
   ],
   "source": [
    "# QUESTION 2: Write a function that takes in a list of numbers. the function should print the smallest number in the given list\n",
    "\n",
    "def smallest_num(list_param):\n",
    "    minimum=0\n",
    "    \n",
    "    for number in list_param:\n",
    "        if minimum == 0:\n",
    "            minimum = number\n",
    "        elif number < minimum:\n",
    "            minimum = number\n",
    "    print(f\"The smallest number in the list is {minimum}\")\n",
    "    \n",
    "nums=[10, 14, 55, 75, 2, 50, 3, 6]\n",
    "smallest_num(nums)"
   ]
  },
  {
   "cell_type": "code",
   "execution_count": 14,
   "metadata": {
    "scrolled": true
   },
   "outputs": [
    {
     "name": "stdout",
     "output_type": "stream",
     "text": [
      "dog 3\n",
      "alligator 9\n",
      "house 5\n",
      "camping 7\n",
      "girraffe 8\n",
      "The shortest string in the list is dog\n"
     ]
    }
   ],
   "source": [
    "# QUESTION 3: Write a function which takes in a list of strings. The function should print the shortest string in the list.\n",
    "\n",
    "def shortest_string(list_param):\n",
    "    shortest=\"\"\n",
    "    shortest_count=0\n",
    "    \n",
    "    for string in list_param:\n",
    "        count = 0\n",
    "        for character in string:\n",
    "            count += 1\n",
    "        print(string, count)\n",
    "        \n",
    "        if shortest_count == 0:\n",
    "            shortest_count = count\n",
    "            shortest = string\n",
    "        elif count < shortest_count:\n",
    "            shortest_count = count\n",
    "            shortest = string\n",
    "            \n",
    "    print(f\"The shortest string in the list is {shortest}\")\n",
    "    \n",
    "strs=[\"dog\",\"alligator\",\"house\",\"camping\", \"girraffe\"]\n",
    "shortest_string(strs)"
   ]
  },
  {
   "cell_type": "code",
   "execution_count": 25,
   "metadata": {},
   "outputs": [
    {
     "data": {
      "text/plain": [
       "[12, 15, 11]"
      ]
     },
     "execution_count": 25,
     "metadata": {},
     "output_type": "execute_result"
    }
   ],
   "source": [
    "#QUESTION 4: Write a function that takes in three arguments: a high value, a low value and a list of numbers.\n",
    "# The function should print a new list of numbers where the elements are greater than the low value and less than the high value\n",
    "\n",
    "def filter_function(high,low,list_param):\n",
    "    filter_list=[]\n",
    "    \n",
    "    for number in list_param:\n",
    "        if number > low and number < high:\n",
    "            filter_list.append(number)\n",
    "    return filter_list\n",
    "\n",
    "high=20\n",
    "low=10\n",
    "arr=[3,6,95,12,20,15,11,21]\n",
    "\n",
    "filter_list(high,low,arr)"
   ]
  },
  {
   "cell_type": "code",
   "execution_count": null,
   "metadata": {},
   "outputs": [],
   "source": []
  }
 ],
 "metadata": {
  "kernelspec": {
   "display_name": "Python 3",
   "language": "python",
   "name": "python3"
  },
  "language_info": {
   "codemirror_mode": {
    "name": "ipython",
    "version": 3
   },
   "file_extension": ".py",
   "mimetype": "text/x-python",
   "name": "python",
   "nbconvert_exporter": "python",
   "pygments_lexer": "ipython3",
   "version": "3.8.5"
  }
 },
 "nbformat": 4,
 "nbformat_minor": 4
}

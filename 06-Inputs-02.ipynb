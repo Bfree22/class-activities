{
 "cells": [
  {
   "cell_type": "code",
   "execution_count": null,
   "metadata": {},
   "outputs": [],
   "source": [
    "name = input(\"Welcome to the Boba Shop! What is your name?\")\n",
    "\n",
    "if name != \"\" or name == None:\n",
    "    print(f\"hello {name}\")\n",
    "\n",
    "beverage = input(\"What kind of Boba do you like?\")\n",
    "sweetness_level= input(\"How sweet do you want your drink: 0, 50, 100, or 200?\")\n",
    "\n",
    "if sweetness_level==50:\n",
    "    sweetness=\"half sweetened\"\n",
    "elif sweetness_level==100:\n",
    "    sweetness=\"normal sweet\"\n",
    "elif sweetness_level==200:\n",
    "    sweetness=\"super sweet\"\n",
    "else:\n",
    "    sweetness=\"non-sweet\""
   ]
  },
  {
   "cell_type": "code",
   "execution_count": 8,
   "metadata": {},
   "outputs": [
    {
     "name": "stdout",
     "output_type": "stream",
     "text": [
      "Welcome to the Boba Shop! What is your name?Brock\n",
      "hello Brock\n",
      "What kind of Boba do you like?Iced Tea\n",
      "How sweet do you want your drink: 0, 50, 100, or 200?50\n",
      "your order of Iced Tea boba with sweetness level of non-sweet\n"
     ]
    }
   ],
   "source": [
    "name = input(\"Welcome to the Boba Shop! What is your name?\")\n",
    "\n",
    "if name != \"\" or name == None:\n",
    "    print(f\"hello {name}\")\n",
    "    beverage = input(\"What kind of Boba do you like?\")\n",
    "    sweetness_level= input(\"How sweet do you want your drink: 0, 50, 100, or 200?\")\n",
    "    if sweetness_level==50:\n",
    "        sweetness=\"half sweetened\"\n",
    "    elif sweetness_level==100:\n",
    "        sweetness=\"normal sweet\"\n",
    "    elif sweetness_level==200:\n",
    "        sweetness=\"super sweet\"\n",
    "    else:\n",
    "        sweetness=\"non-sweet\"\n",
    "    \n",
    "    print(f\"your order of {beverage} boba with sweetness level of {sweetness}\")\n",
    "else:\n",
    "    print(\"You didn't give us a name! Goodbye\")"
   ]
  },
  {
   "cell_type": "code",
   "execution_count": null,
   "metadata": {},
   "outputs": [],
   "source": []
  }
 ],
 "metadata": {
  "kernelspec": {
   "display_name": "Python 3",
   "language": "python",
   "name": "python3"
  },
  "language_info": {
   "codemirror_mode": {
    "name": "ipython",
    "version": 3
   },
   "file_extension": ".py",
   "mimetype": "text/x-python",
   "name": "python",
   "nbconvert_exporter": "python",
   "pygments_lexer": "ipython3",
   "version": "3.8.5"
  }
 },
 "nbformat": 4,
 "nbformat_minor": 4
}

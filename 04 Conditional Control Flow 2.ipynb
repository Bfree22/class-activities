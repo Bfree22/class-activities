{
 "cells": [
  {
   "cell_type": "code",
   "execution_count": 31,
   "metadata": {},
   "outputs": [],
   "source": [
    "c1_name= \"Mr. Farley\"\n",
    "c1_age = 65\n",
    "c1_profession = \"Web Developer\"\n",
    "c1_salary = 100000\n",
    "c1_rent = c1_monthly_rent / 12\n",
    "c1_species = \"cat\"\n",
    "c1_location = \"San Francisco, CA\"\n",
    "c1_monthly_rent= 2000\n",
    "c1_monthly_expenses= 1500\n",
    "c1_yearly_rent= (c1_monthly_rent*12)\n",
    "c1_yearly_expenses = 1500*12\n",
    "c1_savings= (c1_salary - c1_yearly_rent + c1_yearly_expenses)\n",
    "\n",
    "c2_name= \"Mr. Snuggles\"\n",
    "c2_age = 50\n",
    "c2_profession = \"Accountant\"\n",
    "c2_salary = 70000\n",
    "c2_rent = c2_monthly_rent / 12\n",
    "c2_species = \"mouse\"\n",
    "c2_location = \"Oakland, CA\"\n",
    "c2_monthly_rent= 4000\n",
    "c2_monthly_expenses=500\n",
    "c2_yearly_rent= (c2_monthly_rent*12)\n",
    "c2_yearly_expenses = (c2_monthly_expenses*12)\n",
    "c2_savings= (c1_salary - c1_yearly_rent + c1_yearly_expenses)"
   ]
  },
  {
   "cell_type": "code",
   "execution_count": 32,
   "metadata": {},
   "outputs": [
    {
     "data": {
      "text/plain": [
       "94000"
      ]
     },
     "execution_count": 32,
     "metadata": {},
     "output_type": "execute_result"
    }
   ],
   "source": [
    "c1_savings"
   ]
  },
  {
   "cell_type": "code",
   "execution_count": 33,
   "metadata": {},
   "outputs": [
    {
     "data": {
      "text/plain": [
       "24000"
      ]
     },
     "execution_count": 33,
     "metadata": {},
     "output_type": "execute_result"
    }
   ],
   "source": [
    "c1_yearly_rent"
   ]
  },
  {
   "cell_type": "code",
   "execution_count": 34,
   "metadata": {},
   "outputs": [
    {
     "name": "stdout",
     "output_type": "stream",
     "text": [
      "Hello Mr. Farley\n"
     ]
    }
   ],
   "source": [
    "if c1_name == \"Mr. Farley\":\n",
    "    print(f\"Hello {c1_name}\")\n",
    "else:\n",
    "    print(\"Hello Stranger\")"
   ]
  },
  {
   "cell_type": "code",
   "execution_count": 35,
   "metadata": {},
   "outputs": [
    {
     "name": "stdout",
     "output_type": "stream",
     "text": [
      "Mr. Snuggles is older than Mr. Farley.\n"
     ]
    }
   ],
   "source": [
    "if c2_age > c1_age:\n",
    "    print(f\"{c1_name} is older than {c2_name}.\")\n",
    "if c1_age > c2_age:\n",
    "    print(f\"{c2_name} is older than {c1_name}.\")\n",
    "elif c1_age == c2_age:\n",
    "    print(f\"{c1_name} is the same age as {c2_name}.\")"
   ]
  },
  {
   "cell_type": "code",
   "execution_count": 36,
   "metadata": {},
   "outputs": [
    {
     "name": "stdout",
     "output_type": "stream",
     "text": [
      "Mr. Farley comes from the home of the Raiders.\n"
     ]
    }
   ],
   "source": [
    "if c1_location == \"San Francisco, CA\":\n",
    "    print(f\"{c1_name} comes from the home of the Raiders.\")\n",
    "if c2_location == \"San Francisco, CA\":\n",
    "    print(f\"{c1_name} comes from the home of the 49ers!\")\n",
    "elif c1_location != \"San Francisco, CA\":\n",
    "    print(f\"{c1_name} doesn't hail from a sports town!.\")"
   ]
  },
  {
   "cell_type": "code",
   "execution_count": 38,
   "metadata": {},
   "outputs": [
    {
     "name": "stdout",
     "output_type": "stream",
     "text": [
      "Mr. Farley pays less than Mr. Snuggles.\n"
     ]
    }
   ],
   "source": [
    "if c1_rent > c2_rent:\n",
    "    print(f\"{c1_name} pays less than {c2_name}.\")\n",
    "if c1_rent < c2_rent:\n",
    "    print(f\"{c1_name} pays less than {c2_name}.\")\n",
    "elif c1_rent == c2_rent:\n",
    "    print(f\"{c1_name} pays the same as {c2_name}.\")"
   ]
  },
  {
   "cell_type": "code",
   "execution_count": 39,
   "metadata": {},
   "outputs": [
    {
     "name": "stdout",
     "output_type": "stream",
     "text": [
      "Mr. Farley has more expenses than Mr. Snuggles.\n"
     ]
    }
   ],
   "source": [
    "if c1_monthly_expenses > c2_monthly_expenses:\n",
    "    print(f\"{c1_name} has more expenses than {c2_name}.\")\n",
    "if c1_monthly_expenses < c2_monthly_expenses:\n",
    "    print(f\"{c1_name} pays less expenses than {c2_name}.\")\n",
    "elif c1_monthly_expenses == c2_monthly_expenses:\n",
    "    print(f\"{c1_name} pays the same expenses as {c2_name}.\")"
   ]
  },
  {
   "cell_type": "code",
   "execution_count": 40,
   "metadata": {},
   "outputs": [
    {
     "name": "stdout",
     "output_type": "stream",
     "text": [
      "Look a Web Developer\n"
     ]
    }
   ],
   "source": [
    "if c1_profession == \"Web Developer\":\n",
    "    print(\"Look a Web Developer\")\n",
    "else:\n",
    "    print(\"They are professionals\")"
   ]
  },
  {
   "cell_type": "code",
   "execution_count": null,
   "metadata": {},
   "outputs": [],
   "source": []
  },
  {
   "cell_type": "code",
   "execution_count": null,
   "metadata": {},
   "outputs": [],
   "source": []
  },
  {
   "cell_type": "code",
   "execution_count": null,
   "metadata": {},
   "outputs": [],
   "source": []
  }
 ],
 "metadata": {
  "kernelspec": {
   "display_name": "Python 3",
   "language": "python",
   "name": "python3"
  },
  "language_info": {
   "codemirror_mode": {
    "name": "ipython",
    "version": 3
   },
   "file_extension": ".py",
   "mimetype": "text/x-python",
   "name": "python",
   "nbconvert_exporter": "python",
   "pygments_lexer": "ipython3",
   "version": "3.8.5"
  }
 },
 "nbformat": 4,
 "nbformat_minor": 4
}

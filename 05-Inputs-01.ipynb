{
 "cells": [
  {
   "cell_type": "code",
   "execution_count": 9,
   "metadata": {},
   "outputs": [
    {
     "name": "stdout",
     "output_type": "stream",
     "text": [
      "Welcome to the sandwich shop, what do I call you?Brock\n",
      "Hello Brock\n",
      "Are you here for a sandwich?Yes\n",
      "What kind of sandwich would you like?Ham and cheese\n",
      "Please wait 10 min for your Ham and cheese\n"
     ]
    }
   ],
   "source": [
    "welcome_name = input(\"Welcome to the sandwich shop, what do I call you?\")\n",
    "\n",
    "print(f\"Hello {welcome_name}\")\n",
    "\n",
    "question_sandwich = input(\"Are you here for a sandwich?\")\n",
    "if question_sandwich == \"Yes\" or \"yes\":\n",
    "    food_prompt=input(\"What kind of sandwich would you like?\")\n",
    "    print(f\"Please wait 10 min for your {food_prompt}\")\n",
    "elif question_sandwich == \"No\" or \"no\":\n",
    "    print(\"if you don't want a sandwich, what are you here for?!\")\n",
    "else:\n",
    "    print(\"You did not write yes or no!\")"
   ]
  },
  {
   "cell_type": "raw",
   "metadata": {},
   "source": []
  }
 ],
 "metadata": {
  "kernelspec": {
   "display_name": "Python 3",
   "language": "python",
   "name": "python3"
  },
  "language_info": {
   "codemirror_mode": {
    "name": "ipython",
    "version": 3
   },
   "file_extension": ".py",
   "mimetype": "text/x-python",
   "name": "python",
   "nbconvert_exporter": "python",
   "pygments_lexer": "ipython3",
   "version": "3.8.5"
  }
 },
 "nbformat": 4,
 "nbformat_minor": 4
}

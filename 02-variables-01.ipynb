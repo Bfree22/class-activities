{
 "cells": [
  {
   "cell_type": "code",
   "execution_count": null,
   "metadata": {},
   "outputs": [],
   "source": [
    "### "
   ]
  },
  {
   "cell_type": "code",
   "execution_count": 15,
   "metadata": {},
   "outputs": [],
   "source": [
    "subject = \"Programmer\"\n",
    "first_name=\"Ada\"\n",
    "last_name=\"Lovelace\"\n",
    "full_name=(first_name + \" \" + last_name)\n",
    "profession=\"Computer Programmer\"\n",
    "known_for=\"First Computer Programmer\"\n",
    "first_algorithm=\"Analytical Engine\"\n",
    "city_location=\"London\"\n",
    "country_location= \"England\"\n",
    "nationality=\"British\""
   ]
  },
  {
   "cell_type": "code",
   "execution_count": 5,
   "metadata": {},
   "outputs": [
    {
     "data": {
      "text/plain": [
       "'Ada Lovelace'"
      ]
     },
     "execution_count": 5,
     "metadata": {},
     "output_type": "execute_result"
    }
   ],
   "source": [
    "full_name"
   ]
  },
  {
   "cell_type": "code",
   "execution_count": 6,
   "metadata": {},
   "outputs": [],
   "source": [
    "birth_year=int(1815)\n",
    "death_year=1852\n",
    "age_at_passing=(death_year - birth_year)\n",
    "year_of_publish=1842"
   ]
  },
  {
   "cell_type": "code",
   "execution_count": 7,
   "metadata": {},
   "outputs": [
    {
     "data": {
      "text/plain": [
       "37"
      ]
     },
     "execution_count": 7,
     "metadata": {},
     "output_type": "execute_result"
    }
   ],
   "source": [
    "age_at_passing"
   ]
  },
  {
   "cell_type": "code",
   "execution_count": 12,
   "metadata": {},
   "outputs": [
    {
     "name": "stdout",
     "output_type": "stream",
     "text": [
      "First Name: Ada\n",
      "Last Name: Lovelace\n",
      "profession: Computer Programmer\n",
      "birth year 1815\n"
     ]
    }
   ],
   "source": [
    "print(\"First Name:\" + \" \" + first_name)\n",
    "print(\"Last Name:\" + \" \"  + last_name)\n",
    "print(\"profession:\"+  \" \" + profession)\n",
    "print(f\"birth year {birth_year}\")\n",
    "\n"
   ]
  },
  {
   "cell_type": "code",
   "execution_count": 16,
   "metadata": {},
   "outputs": [
    {
     "name": "stdout",
     "output_type": "stream",
     "text": [
      "Programmer Ada Lovelace is a british Computer Programmer born in 1815.\n"
     ]
    }
   ],
   "source": [
    "statement_one = f\"{subject} {full_name} is a british {profession} born in {birth_year}.\"\n",
    "print(statement_one)"
   ]
  },
  {
   "cell_type": "code",
   "execution_count": 17,
   "metadata": {},
   "outputs": [
    {
     "name": "stdout",
     "output_type": "stream",
     "text": [
      "Ada Lovelace is commonly referred to as the First Computer Programmer.\n"
     ]
    }
   ],
   "source": [
    "statement_two = f\"{full_name} is commonly referred to as the {known_for}.\"\n",
    "print(statement_two)"
   ]
  },
  {
   "cell_type": "code",
   "execution_count": 20,
   "metadata": {},
   "outputs": [
    {
     "name": "stdout",
     "output_type": "stream",
     "text": [
      "In 1842, she published the first algorithm, the Analytical Engine, at the age of 27.\n"
     ]
    }
   ],
   "source": [
    "statement_three = f\"In 1842, she published the first algorithm, the {first_algorithm}, at the age of 27.\"\n",
    "print(statement_three)"
   ]
  },
  {
   "cell_type": "code",
   "execution_count": 18,
   "metadata": {},
   "outputs": [
    {
     "name": "stdout",
     "output_type": "stream",
     "text": [
      "She was a British Citizen who lived in London, England until her passing in 1852 at the age of 37.\n"
     ]
    }
   ],
   "source": [
    "statement_four = f\"She was a {nationality} Citizen who lived in {city_location}, {country_location} until her \" \\\n",
    "                 f\"passing in {death_year} at the age of {age_at_passing}.\"\n",
    "print(statement_four)"
   ]
  },
  {
   "cell_type": "code",
   "execution_count": null,
   "metadata": {},
   "outputs": [],
   "source": []
  }
 ],
 "metadata": {
  "kernelspec": {
   "display_name": "Python 3",
   "language": "python",
   "name": "python3"
  },
  "language_info": {
   "codemirror_mode": {
    "name": "ipython",
    "version": 3
   },
   "file_extension": ".py",
   "mimetype": "text/x-python",
   "name": "python",
   "nbconvert_exporter": "python",
   "pygments_lexer": "ipython3",
   "version": "3.8.5"
  }
 },
 "nbformat": 4,
 "nbformat_minor": 4
}

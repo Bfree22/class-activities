{
 "cells": [
  {
   "cell_type": "code",
   "execution_count": null,
   "metadata": {},
   "outputs": [],
   "source": [
    "import os\n",
    "import csv\n",
    "\n",
    "filepath = os.path.join(\"employees.csv\")\n",
    "\n",
    "new_employee_data = []\n",
    "\n",
    "# Read data into dictionary and create a new email field\n",
    "with open(filepath) as csvfile:\n",
    "    reader = csv.DictReader(csvfile)\n",
    "    for row in reader:\n",
    "        first_name = row[\"first_name\"]\n",
    "        last_name = row[\"last_name\"]\n",
    "        email = f\"{first_name}.{last_name}@example.com\"\n",
    "        new_employee_data.append(\n",
    "            {\n",
    "                \"first_name\": row[\"first_name\"],\n",
    "                \"last_name\": row[\"last_name\"],\n",
    "                \"ssn\": row[\"ssn\"],\n",
    "                \"email\": email\n",
    "            }\n",
    "        )\n",
    "\n",
    "# Grab the filename from the original path\n",
    "_, filename = os.path.split(filepath)\n",
    "\n",
    "# Write updated data to csv file\n",
    "csvpath = os.path.join(\"output\", filename)\n",
    "with open(csvpath, \"w\") as csvfile:\n",
    "    fieldnames = [\"last_name\", \"first_name\", \"ssn\", \"email\"]\n",
    "    writer = csv.DictWriter(csvfile, fieldnames=fieldnames)\n",
    "    writer.writeheader()\n",
    "    writer.writerows(new_employee_data)\n"
   ]
  }
 ],
 "metadata": {
  "kernelspec": {
   "display_name": "Python 3",
   "language": "python",
   "name": "python3"
  },
  "language_info": {
   "codemirror_mode": {
    "name": "ipython",
    "version": 3
   },
   "file_extension": ".py",
   "mimetype": "text/x-python",
   "name": "python",
   "nbconvert_exporter": "python",
   "pygments_lexer": "ipython3",
   "version": "3.8.5"
  }
 },
 "nbformat": 4,
 "nbformat_minor": 4
}

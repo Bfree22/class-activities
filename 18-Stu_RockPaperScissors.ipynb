{
 "cells": [
  {
   "cell_type": "code",
   "execution_count": 1,
   "metadata": {},
   "outputs": [],
   "source": [
    "import random"
   ]
  },
  {
   "cell_type": "code",
   "execution_count": 3,
   "metadata": {},
   "outputs": [
    {
     "name": "stdout",
     "output_type": "stream",
     "text": [
      "Make Your Choice: (r)ock, (p)aper, (s)cissorsp\n",
      "You chose paper. The computer chose rock.\n",
      "You won, Nice!\n"
     ]
    }
   ],
   "source": [
    "## Using the command line, take an input of r, p, or s, which stand for rock, paper, and scissors.\n",
    "\n",
    "rock_paper_scissors=[\"r\",\"p\",\"s\"]\n",
    "\n",
    "## Have the computer randomly choose one of these three choices.\n",
    "\n",
    "## computer choice\n",
    "computer_choice = random.choice(rock_paper_scissors)\n",
    "\n",
    "## user choice\n",
    "user_choice = input(\"Make Your Choice: (r)ock, (p)aper, (s)cissors\")\n",
    "\n",
    "if (user_choice == \"r\" and computer_choice == \"p\"):\n",
    "    print(\"Sorry, you lose.\")\n",
    "    \n",
    "elif (user_choice == \"r\" and computer_choice == \"r\"):\n",
    "    print(\"Both have chose rock, a tie!\")\n",
    "\n",
    "elif (user_choice == \"p\" and computer_choice == \"p\"):\n",
    "    print(\"You chose paper. The computer chose paper.\")\n",
    "    print(\"Both have chose rock, a tie!\")\n",
    "\n",
    "elif (user_choice == \"p\" and computer_choice == \"s\"):\n",
    "    print(\"You chose paper. The computer chose scissors.\")\n",
    "    print(\"Sorry. You lose.\")\n",
    "\n",
    "elif (user_choice == \"p\" and computer_choice == \"r\"):\n",
    "    print(\"You chose paper. The computer chose rock.\")\n",
    "    print(\"You won, Nice!\")\n",
    "\n",
    "elif (user_choice == \"s\" and computer_choice == \"p\"):\n",
    "    print(\"You chose scissors. The computer chose paper.\")\n",
    "    print(\"You won, Nice!\")\n",
    "\n",
    "elif (user_choice == \"s\" and computer_choice == \"s\"):\n",
    "    print(\"You chose scissors. The computer chose scissors.\")\n",
    "    print(\"Both have chose scissors, a tie!\")\n",
    "\n",
    "elif (user_choice == \"s\" and computer_choice == \"r\"):\n",
    "    print(\"You chose scissors. The computer chose rock.\")\n",
    "    print(\"Sorry. You lose.\")\n",
    "\n",
    "else:\n",
    "    print(\"I don't understand that!\")\n",
    "    print(\"Next time, choose from 'r', 'p', or 's'.\")\n"
   ]
  },
  {
   "cell_type": "code",
   "execution_count": null,
   "metadata": {},
   "outputs": [],
   "source": []
  }
 ],
 "metadata": {
  "kernelspec": {
   "display_name": "Python 3",
   "language": "python",
   "name": "python3"
  },
  "language_info": {
   "codemirror_mode": {
    "name": "ipython",
    "version": 3
   },
   "file_extension": ".py",
   "mimetype": "text/x-python",
   "name": "python",
   "nbconvert_exporter": "python",
   "pygments_lexer": "ipython3",
   "version": "3.8.5"
  }
 },
 "nbformat": 4,
 "nbformat_minor": 4
}
